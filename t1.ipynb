{
 "cells": [
  {
   "cell_type": "code",
   "execution_count": null,
   "id": "885771df",
   "metadata": {},
   "outputs": [],
   "source": [
    "tasks = [\n",
    "    \"Add income\",\n",
    "    \"Add expense\",\n",
    "    \"View remaining budget\",\n",
    "    \"Set spending limit\",\n",
    "    \"View total balance\",\n",
    "    \"View expense history\",\n",
    "]\n",
    "for i, task in enumerate(tasks, 1):\n",
    "    print(f\"{i}. {task}\")"
   ]
  },
  {
   "cell_type": "code",
   "execution_count": null,
   "id": "1578ed2f",
   "metadata": {},
   "outputs": [
    {
     "name": "stdout",
     "output_type": "stream",
     "text": [
      "1000.0\n"
     ]
    }
   ],
   "source": [
    "income = float(input(\"Write down balance\"))\n",
    "print(income)"
   ]
  },
  {
   "cell_type": "code",
   "execution_count": 7,
   "id": "2a8fb92f",
   "metadata": {},
   "outputs": [
    {
     "name": "stdout",
     "output_type": "stream",
     "text": [
      "1000.0\n",
      "0.0\n",
      "[('golf', 1000.0)]\n"
     ]
    }
   ],
   "source": [
    "expense = float(input(\"Write down expense\"))\n",
    "\n",
    "desc = (input(\"Write down Description\"))\n",
    "\n",
    "expense_history = []\n",
    "expense_history.append((desc,expense))\n",
    "\n",
    "\n",
    "balance = income - expense\n",
    "print(expense)\n",
    "print(balance)\n",
    "print(expense_history)"
   ]
  },
  {
   "cell_type": "code",
   "execution_count": null,
   "id": "0f2bf450",
   "metadata": {},
   "outputs": [],
   "source": []
  },
  {
   "cell_type": "code",
   "execution_count": 13,
   "id": "e3d30c9c",
   "metadata": {},
   "outputs": [
    {
     "name": "stdout",
     "output_type": "stream",
     "text": [
      "0.0\n"
     ]
    }
   ],
   "source": [
    "spend_limit =float(input(\"Set Your Spend Limit\"))\n",
    "if spend_limit <= expense and spend_limit != 0:\n",
    "    spend_limit = spend_limit - expense\n",
    "    print(spend_limit)\n",
    "else:\n",
    "    print(\"spend limit reached\")"
   ]
  },
  {
   "cell_type": "code",
   "execution_count": 10,
   "id": "2d0495af",
   "metadata": {},
   "outputs": [
    {
     "name": "stdout",
     "output_type": "stream",
     "text": [
      "0.0\n"
     ]
    }
   ],
   "source": [
    "print(balance)"
   ]
  },
  {
   "cell_type": "code",
   "execution_count": null,
   "id": "38fb7471",
   "metadata": {},
   "outputs": [],
   "source": []
  }
 ],
 "metadata": {
  "kernelspec": {
   "display_name": "base",
   "language": "python",
   "name": "python3"
  },
  "language_info": {
   "codemirror_mode": {
    "name": "ipython",
    "version": 3
   },
   "file_extension": ".py",
   "mimetype": "text/x-python",
   "name": "python",
   "nbconvert_exporter": "python",
   "pygments_lexer": "ipython3",
   "version": "3.12.2"
  }
 },
 "nbformat": 4,
 "nbformat_minor": 5
}
