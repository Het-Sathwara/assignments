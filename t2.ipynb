{
 "cells": [
  {
   "cell_type": "code",
   "execution_count": null,
   "id": "17199659",
   "metadata": {
    "vscode": {
     "languageId": "markdown"
    }
   },
   "outputs": [],
   "source": [
    "# Features for a Basic Daily Task Reminder Using Core Python Concepts\n",
    "\n",
    "1. Add a new task (task name and due date as text).\n",
    "2. View all tasks.\n",
    "3. Mark a task as completed.\n",
    "4. Delete a task.\n",
    "5. Show Particular Task"
   ]
  },
  {
   "cell_type": "code",
   "execution_count": 7,
   "id": "6fa81858",
   "metadata": {},
   "outputs": [
    {
     "name": "stdout",
     "output_type": "stream",
     "text": [
      "[]\n"
     ]
    }
   ],
   "source": [
    "op = int(input(\"select between \\n1. Add a new task \\n2. View all tasks.\\n3. Mark a task as completed.\\n4. Delete a task. \\n5 If you want to show a particular task\"))\n",
    "if op == 1:\n",
    "        task =  []\n",
    "        task_name = input(\"Enter a Task\")\n",
    "        date = int(input(\"Write a Time\"))\n",
    "        priority = input(\"Select Priority on the scale of 1-10\")\n",
    "        status = \"pending\"\n",
    "        task.append((task_name,date,priority,status))\n",
    "if op == 2:\n",
    "        print(task)\n",
    "if op == 3:\n",
    "        task_complete = int(input(\"write down the number of task\"))\n",
    "        task1 = task[task_complete] = (task_name,date,priority,\"Complete\")\n",
    "        print(task1)\n",
    "if op == 4:\n",
    "        task_delete = int(input(\"write down the task you want to delete\"))\n",
    "        task.pop(task_delete)\n",
    "        task2 = task[task_delete] = (task_name,date,priority,status)\n",
    "        print(task2)\n",
    "if op == 5:\n",
    "        task_show = int(input(\"write down the task you want to see\"))\n",
    "        print(task[task_show])"
   ]
  },
  {
   "cell_type": "code",
   "execution_count": null,
   "id": "19a488af",
   "metadata": {},
   "outputs": [],
   "source": []
  }
 ],
 "metadata": {
  "kernelspec": {
   "display_name": "base",
   "language": "python",
   "name": "python3"
  },
  "language_info": {
   "codemirror_mode": {
    "name": "ipython",
    "version": 3
   },
   "file_extension": ".py",
   "mimetype": "text/x-python",
   "name": "python",
   "nbconvert_exporter": "python",
   "pygments_lexer": "ipython3",
   "version": "3.12.2"
  }
 },
 "nbformat": 4,
 "nbformat_minor": 5
}
